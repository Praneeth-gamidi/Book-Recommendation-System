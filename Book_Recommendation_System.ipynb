{
  "nbformat": 4,
  "nbformat_minor": 0,
  "metadata": {
    "colab": {
      "provenance": [],
      "authorship_tag": "ABX9TyOfnIdl4fdRnHC53iNM2GWm",
      "include_colab_link": true
    },
    "kernelspec": {
      "name": "python3",
      "display_name": "Python 3"
    },
    "language_info": {
      "name": "python"
    }
  },
  "cells": [
    {
      "cell_type": "markdown",
      "metadata": {
        "id": "view-in-github",
        "colab_type": "text"
      },
      "source": [
        "<a href=\"https://colab.research.google.com/github/Praneeth-gamidi/Book-Recommendation-System/blob/main/Book_Recommendation_System.ipynb\" target=\"_parent\"><img src=\"https://colab.research.google.com/assets/colab-badge.svg\" alt=\"Open In Colab\"/></a>"
      ]
    },
    {
      "cell_type": "code",
      "execution_count": null,
      "metadata": {
        "colab": {
          "base_uri": "https://localhost:8080/"
        },
        "id": "LKU_AYFpNN2D",
        "outputId": "2f691569-927b-4027-fd23-709e0339a45a"
      },
      "outputs": [
        {
          "output_type": "stream",
          "name": "stdout",
          "text": [
            "Enter Your user ID: 3\n",
            "Enter book title for which you need similar books: something\n",
            "Enter number of recommendations:2\n",
            "Books similar to 'something' for user with ID 3:\n",
            " Book not found in the dataset.\n"
          ]
        }
      ],
      "source": [
        "import pandas as pd\n",
        "from math import sqrt\n",
        "import warnings\n",
        "warnings.filterwarnings(\"ignore\", category=FutureWarning, module=\"openpyxl.utils\")\n",
        "warnings.filterwarnings(\"ignore\", category=UserWarning, module=\"openpyxl.styles\")\n",
        "books = pd.read_excel('/content/books.xlsx')\n",
        "ratings = pd.read_excel('/content/ratings.xlsx')\n",
        "users = pd.read_excel('/content/users.xlsx')\n",
        "\n",
        "book_data = []\n",
        "for _, rating_row in ratings.iterrows():\n",
        "    for _, book_row in books.iterrows():\n",
        "        if rating_row['book_id'] == book_row['book_id']:\n",
        "            book_data.append({**rating_row, **book_row})\n",
        "\n",
        "book_data = pd.DataFrame(book_data)\n",
        "full_data = []\n",
        "for _, book_row in book_data.iterrows():\n",
        "    for _, user_row in users.iterrows():\n",
        "        if book_row['user_id'] == user_row['user_id']:\n",
        "            full_data.append({**book_row, **user_row})\n",
        "\n",
        "full_data = pd.DataFrame(full_data)\n",
        "\n",
        "unique_categories = full_data['category'].unique()\n",
        "category_encoded = pd.DataFrame([[1 if full_data['category'][i] == category else 0 for category in unique_categories] for i in range(len(full_data))], columns=[f\"category_{category}\" for category in unique_categories])\n",
        "\n",
        "feature_matrix = pd.concat([full_data[['user_id', 'book_id', 'rating']].reset_index(drop=True), category_encoded.reset_index(drop=True)], axis=1)\n",
        "\n",
        "user_book_matrix = {}\n",
        "for _, row in feature_matrix.iterrows():\n",
        "    user_id, book_id, rating = row['user_id'], row['book_id'], row['rating']\n",
        "    if user_id not in user_book_matrix:\n",
        "        user_book_matrix[user_id] = {}\n",
        "    user_book_matrix[user_id][book_id] = rating\n",
        "\n",
        "book_ids = feature_matrix['book_id'].unique()\n",
        "for user_ratings in user_book_matrix.values():\n",
        "    for book_id in book_ids:\n",
        "        if book_id not in user_ratings:\n",
        "            user_ratings[book_id] = 0\n",
        "\n",
        "def euclidean_distance(vec1, vec2):\n",
        "    return sqrt(sum((vec1[i] - vec2[i]) ** 2 for i in range(len(vec1))))\n",
        "\n",
        "def recommend_books(user_id, book_title, n_recommendations=5):\n",
        "    if book_title not in books['title'].values:\n",
        "        return \"Book not found in the dataset.\"\n",
        "\n",
        "    book_id = books[books['title'] == book_title]['book_id'].values[0]\n",
        "    if book_id not in book_ids:\n",
        "        return \"Book not found in the ratings data.\"\n",
        "\n",
        "    user_age = users[users['user_id'] == user_id]['age'].values[0]\n",
        "    book_ratings = [user_book_matrix[u].get(book_id, 0) for u in user_book_matrix]\n",
        "\n",
        "    distances = []\n",
        "    for other_book_id in book_ids:\n",
        "        if other_book_id == book_id:\n",
        "            continue\n",
        "        other_book_ratings = [user_book_matrix[u].get(other_book_id, 0) for u in user_book_matrix]\n",
        "        distance = euclidean_distance(book_ratings, other_book_ratings)\n",
        "        distances.append((distance, other_book_id))\n",
        "    distances.sort()\n",
        "    recommendations = []\n",
        "    for _, similar_book_id in distances[:n_recommendations + 1]:\n",
        "        similar_book_title = books[books['book_id'] == similar_book_id]['title'].values[0]\n",
        "        book_age_group = books[books['book_id'] == similar_book_id]['target_age_group'].values[0]\n",
        "        if user_age >= book_age_group:\n",
        "            recommendations.append(similar_book_title)\n",
        "            if len(recommendations) >= n_recommendations:\n",
        "                break\n",
        "\n",
        "    return recommendations\n",
        "user_id = int(input(\"Enter Your user ID: \"))\n",
        "book_title = input(\"Enter book title for which you need similar books: \")\n",
        "n_recommendations = int(input(\"Enter number of recommendations:\"));\n",
        "recommended_books = recommend_books(user_id, book_title, n_recommendations)\n",
        "print(f\"Books similar to '{book_title}' for user with ID {user_id}:\\n\", recommended_books)"
      ]
    }
  ]
}